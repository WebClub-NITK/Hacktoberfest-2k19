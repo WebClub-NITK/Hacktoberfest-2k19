{
 "cells": [
  {
   "cell_type": "markdown",
   "metadata": {},
   "source": [
    "# DATA ANALYSIS OF A TITANIC DATA SET (.csv)"
   ]
  },
  {
   "cell_type": "markdown",
   "metadata": {},
   "source": [
    "# importing libraries"
   ]
  },
  {
   "cell_type": "code",
   "execution_count": null,
   "metadata": {},
   "outputs": [],
   "source": [
    "import pandas as pd\n",
    "import numpy as np\n",
    "import matplotlib.pyplot as plt\n",
    "import seaborn as sns\n",
    "%matplotlib inline"
   ]
  },
  {
   "cell_type": "code",
   "execution_count": null,
   "metadata": {},
   "outputs": [],
   "source": [
    "import numpy as np\n",
    "k=({\n",
    "    'a':[12,23,34,45],\n",
    "    'b':[56,67,np.nan,np.nan],\n",
    "    'c':[90,np.nan,34,45],\n",
    "    'd':[612,523,np.nan,745]\n",
    "})\n",
    "df=pd.DataFrame(k)\n",
    "df"
   ]
  },
  {
   "cell_type": "code",
   "execution_count": null,
   "metadata": {},
   "outputs": [],
   "source": [
    "df['b'].isnull().sum()"
   ]
  },
  {
   "cell_type": "code",
   "execution_count": null,
   "metadata": {},
   "outputs": [],
   "source": [
    "df.b.ffill(inplace=True)"
   ]
  },
  {
   "cell_type": "code",
   "execution_count": null,
   "metadata": {},
   "outputs": [],
   "source": [
    "df"
   ]
  },
  {
   "cell_type": "code",
   "execution_count": null,
   "metadata": {},
   "outputs": [],
   "source": [
    "df.c.bfill,df.d.ffill(inplace=True)"
   ]
  },
  {
   "cell_type": "code",
   "execution_count": null,
   "metadata": {},
   "outputs": [],
   "source": [
    "df"
   ]
  },
  {
   "cell_type": "code",
   "execution_count": null,
   "metadata": {},
   "outputs": [],
   "source": [
    "df.mean()"
   ]
  },
  {
   "cell_type": "markdown",
   "metadata": {},
   "source": [
    "# Load my .csv file..."
   ]
  },
  {
   "cell_type": "code",
   "execution_count": null,
   "metadata": {},
   "outputs": [],
   "source": [
    "titanic_train= pd.read_csv(r'C:\\Users\\kunal negi\\Downloads\\train.csv')\n",
    "titanic_train.head(10)"
   ]
  },
  {
   "cell_type": "markdown",
   "metadata": {},
   "source": [
    "# in order to see the null value in data set"
   ]
  },
  {
   "cell_type": "code",
   "execution_count": null,
   "metadata": {},
   "outputs": [],
   "source": [
    "sns.heatmap(titanic_train.isnull(),yticklabels=False) "
   ]
  },
  {
   "cell_type": "markdown",
   "metadata": {},
   "source": [
    "# clearing my data "
   ]
  },
  {
   "cell_type": "code",
   "execution_count": null,
   "metadata": {},
   "outputs": [],
   "source": [
    "titanic_train.isnull().sum()"
   ]
  },
  {
   "cell_type": "code",
   "execution_count": null,
   "metadata": {},
   "outputs": [],
   "source": [
    "mean_age=titanic_train['Age'].mean()"
   ]
  },
  {
   "cell_type": "code",
   "execution_count": null,
   "metadata": {},
   "outputs": [],
   "source": [
    "titanic_train['Age'].fillna(int(mean_age),inplace=True)"
   ]
  },
  {
   "cell_type": "code",
   "execution_count": null,
   "metadata": {},
   "outputs": [],
   "source": [
    "titanic_train.Cabin.bfill(inplace=True)"
   ]
  },
  {
   "cell_type": "code",
   "execution_count": null,
   "metadata": {},
   "outputs": [],
   "source": [
    "titanic_train.isnull().sum()"
   ]
  },
  {
   "cell_type": "code",
   "execution_count": null,
   "metadata": {},
   "outputs": [],
   "source": [
    "titanic_train.head(10)"
   ]
  },
  {
   "cell_type": "code",
   "execution_count": null,
   "metadata": {},
   "outputs": [],
   "source": [
    "sns.heatmap(titanic_train.isnull(),yticklabels=False,cmap='rainbow')"
   ]
  },
  {
   "cell_type": "markdown",
   "metadata": {},
   "source": [
    "# Analysis start...."
   ]
  },
  {
   "cell_type": "code",
   "execution_count": null,
   "metadata": {},
   "outputs": [],
   "source": [
    "titanic_train.hist(bins=50,figsize=(10,15))"
   ]
  },
  {
   "cell_type": "code",
   "execution_count": null,
   "metadata": {},
   "outputs": [],
   "source": [
    "sns.distplot(titanic_train['Survived'],hist=False)"
   ]
  },
  {
   "cell_type": "code",
   "execution_count": null,
   "metadata": {},
   "outputs": [],
   "source": [
    "sns.countplot(x='Survived',hue='Sex', data=titanic_train)"
   ]
  },
  {
   "cell_type": "code",
   "execution_count": null,
   "metadata": {},
   "outputs": [],
   "source": [
    "sns.scatterplot(y='Survived',x='Age',hue='Sex',data=titanic_train)"
   ]
  },
  {
   "cell_type": "code",
   "execution_count": null,
   "metadata": {},
   "outputs": [],
   "source": [
    "sns.set_style(style='darkgrid')\n",
    "sns.scatterplot(y='Fare',x='Age',hue='Sex',data=titanic_train)"
   ]
  },
  {
   "cell_type": "code",
   "execution_count": null,
   "metadata": {},
   "outputs": [],
   "source": [
    "sns.set_style(style='darkgrid')\n",
    "sns.regplot(y='Fare',x='Age',data=titanic_train)"
   ]
  },
  {
   "cell_type": "code",
   "execution_count": null,
   "metadata": {},
   "outputs": [],
   "source": [
    "sns.relplot(y='Fare',x='Age',kind='line',data=titanic_train)"
   ]
  },
  {
   "cell_type": "code",
   "execution_count": null,
   "metadata": {},
   "outputs": [],
   "source": [
    "sns.relplot(x='Survived',y='Age',kind='line',data=titanic_train)"
   ]
  },
  {
   "cell_type": "markdown",
   "metadata": {},
   "source": [
    "# combined my all relevent plot"
   ]
  },
  {
   "cell_type": "code",
   "execution_count": null,
   "metadata": {},
   "outputs": [],
   "source": [
    "plt.figure(figsize=(10,10))\n",
    "plt.subplot(3,3,1)\n",
    "sns.set_style(style='darkgrid')\n",
    "sns.countplot(x='Survived',hue='Sex', data=titanic_train)\n",
    "\n",
    "plt.subplot(3,3,2)\n",
    "sns.scatterplot(y='Survived',x='Age',hue='Sex',data=titanic_train)\n",
    "\n",
    "plt.subplot(3,3,3)\n",
    "sns.scatterplot(y='Fare',x='Age',hue='Sex',data=titanic_train)\n",
    "\n",
    "plt.subplot(3,3,4)\n",
    "sns.regplot(y='Fare',x='Age',data=titanic_train)\n",
    "\n",
    "plt.subplot(3,3,5)\n",
    "sns.relplot(y='Fare',x='Age',kind='line',data=titanic_train)\n"
   ]
  },
  {
   "cell_type": "code",
   "execution_count": null,
   "metadata": {},
   "outputs": [],
   "source": [
    "sns.jointplot(y='Fare',x='Age',kind='kde',data=titanic_train)"
   ]
  },
  {
   "cell_type": "code",
   "execution_count": null,
   "metadata": {},
   "outputs": [],
   "source": [
    "sns.jointplot(y='Fare',x='Age',kind=\"resid\",data=titanic_train)"
   ]
  },
  {
   "cell_type": "code",
   "execution_count": null,
   "metadata": {},
   "outputs": [],
   "source": [
    "sns.jointplot(y='Fare',x='Age',kind=\"scatter\",data=titanic_train)"
   ]
  },
  {
   "cell_type": "code",
   "execution_count": null,
   "metadata": {},
   "outputs": [],
   "source": [
    "sns.jointplot(y='Fare',x='Age',kind=\"reg\",data=titanic_train)"
   ]
  },
  {
   "cell_type": "code",
   "execution_count": null,
   "metadata": {},
   "outputs": [],
   "source": [
    "titanic_train.head(10)"
   ]
  },
  {
   "cell_type": "markdown",
   "metadata": {},
   "source": [
    "# to analyse only age of a person"
   ]
  },
  {
   "cell_type": "code",
   "execution_count": null,
   "metadata": {},
   "outputs": [],
   "source": [
    "age1=titanic_train.loc[(titanic_train['Age']>=0) & (titanic_train['Age']<15) ,'Age']\n",
    "a=len(age1)\n",
    "print(f'Age between (0 to 14)-:{a}')\n",
    "\n",
    "age2=titanic_train.loc[(titanic_train['Age']>=15) & (titanic_train['Age']<30) ,'Age']\n",
    "b=len(age2)\n",
    "print(f'Age between (15 to 29)-:{b}')\n",
    "\n",
    "age3=titanic_train.loc[(titanic_train['Age']>=30) & (titanic_train['Age']<45) ,'Age']\n",
    "c=len(age3)\n",
    "print(f'Age between (30 to 44)-:{c}')\n",
    "\n",
    "age4=titanic_train.loc[(titanic_train['Age']>=45) & (titanic_train['Age']<60) ,'Age']\n",
    "d=len(age4)\n",
    "print(f'Age between (45 to 59)-:{d}')\n",
    "\n",
    "age5=titanic_train.loc[(titanic_train['Age']>=60) & (titanic_train['Age']<75) ,'Age']\n",
    "e=len(age5)\n",
    "print(f'Age between (60 to 74)-:{e}')\n",
    "\n",
    "age6=titanic_train.loc[titanic_train['Age']>=75,'Age']\n",
    "f=len(age6)\n",
    "print(f'Age above 75+ -:{f}')                       "
   ]
  },
  {
   "cell_type": "code",
   "execution_count": null,
   "metadata": {},
   "outputs": [],
   "source": [
    "agegrp=[a,b,c,d,e,f]\n",
    "label=['Age(0 to 14)','Age(15 to 29)',\n",
    "       'Age(30 to 44)','Age(45 to 59)','Age(60 to 74)',\n",
    "      'Age(above75)']\n",
    "def bar_plotting_x():\n",
    "    index=np.arange(len(label))\n",
    "    plt.bar(index,agegrp)\n",
    "    plt.ylabel('age group of people', fontsize=9)\n",
    "    plt.xticks(index,label,fontsize=10,rotation=20)\n",
    "    plt.show()\n",
    "    \n",
    "bar_plotting_x()    "
   ]
  },
  {
   "cell_type": "code",
   "execution_count": null,
   "metadata": {},
   "outputs": [],
   "source": [
    "sns.distplot(agegrp,bins=10)"
   ]
  },
  {
   "cell_type": "markdown",
   "metadata": {},
   "source": [
    "# full_specification of a particular passenger unique Id "
   ]
  },
  {
   "cell_type": "code",
   "execution_count": null,
   "metadata": {},
   "outputs": [],
   "source": [
    "def full_specification():\n",
    "    while True:   \n",
    "        enquiry=int(input('enter Passenger Unique ID-:'))\n",
    "\n",
    "        if enquiry in titanic_train.PassengerId:\n",
    "            a1=titanic_train.iloc[enquiry-1]['PassengerId']\n",
    "            a2=titanic_train.iloc[enquiry-1]['Name']\n",
    "            a3=titanic_train.iloc[enquiry-1]['Sex']\n",
    "            a4=titanic_train.iloc[enquiry-1]['Age']\n",
    "            a5=titanic_train.iloc[enquiry-1]['Ticket'],titanic_train.iloc[enquiry-1]['Fare']\n",
    "            a6=titanic_train.iloc[enquiry-1]['Cabin']\n",
    "            print(f'Enquiry for passenger Unique Id-->{a1}\\nName-->{a2}\\nGender-->{a3}\\nAge-->{a4}\\nCabin-->{a6}\\nFare and ticket-->{a5}')\n",
    "            print(\"*****************************************************************************************************************\")\n",
    "        elif enquiry not in titanic_train.PassengerId:\n",
    "            print('SEEMS TO BE ENTERED A WRONG PASSENGER UNIQUE ID')\n",
    "            break\n",
    "            \n",
    "full_specification()            "
   ]
  },
  {
   "cell_type": "code",
   "execution_count": null,
   "metadata": {},
   "outputs": [],
   "source": [
    "def box_plotting2():\n",
    "    name=[n for n in titanic_train.Name.head(20)]\n",
    "    fare=[f for f in titanic_train.Fare.head(20)]\n",
    "    index=np.arange(len(name))\n",
    "    plt.figure(figsize=(10,15))\n",
    "    plt.subplot(2,2,1)\n",
    "    plt.boxplot(index,fare)\n",
    "    plt.subplot(2,2,2)\n",
    "    plt.barh(index,fare)\n",
    "    plt.subplot(2,2,3)\n",
    "    plt.plot(index,fare)\n",
    "    plt.xlabel('fare of titanic voyage',fontsize=12)\n",
    "    plt.yticks(index,name,fontsize=10)\n",
    "    plt.show()\n",
    "    \n",
    "box_plotting2()    "
   ]
  },
  {
   "cell_type": "code",
   "execution_count": null,
   "metadata": {},
   "outputs": [],
   "source": [
    "plt.pie()"
   ]
  },
  {
   "cell_type": "code",
   "execution_count": null,
   "metadata": {},
   "outputs": [],
   "source": []
  },
  {
   "cell_type": "code",
   "execution_count": null,
   "metadata": {},
   "outputs": [],
   "source": []
  },
  {
   "cell_type": "code",
   "execution_count": null,
   "metadata": {},
   "outputs": [],
   "source": []
  }
 ],
 "metadata": {
  "kernelspec": {
   "display_name": "Python 3",
   "language": "python",
   "name": "python3"
  },
  "language_info": {
   "codemirror_mode": {
    "name": "ipython",
    "version": 3
   },
   "file_extension": ".py",
   "mimetype": "text/x-python",
   "name": "python",
   "nbconvert_exporter": "python",
   "pygments_lexer": "ipython3",
   "version": "3.7.1"
  }
 },
 "nbformat": 4,
 "nbformat_minor": 2
}
