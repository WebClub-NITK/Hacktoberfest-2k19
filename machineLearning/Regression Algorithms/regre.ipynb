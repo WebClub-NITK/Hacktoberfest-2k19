{
 "cells": [
  {
   "cell_type": "code",
   "execution_count": 10,
   "metadata": {},
   "outputs": [],
   "source": [
    "#1.Logistic regression For Gender Voice Dataset"
   ]
  },
  {
   "cell_type": "code",
   "execution_count": 11,
   "metadata": {},
   "outputs": [
    {
     "name": "stdout",
     "output_type": "stream",
     "text": [
      "confusion matrix: [[289  34]\n",
      " [  8 300]]\n",
      "accuracy : 0.9334389857369255\n",
      "classification report:                precision    recall  f1-score   support\n",
      "\n",
      "           0       0.97      0.89      0.93       323\n",
      "           1       0.90      0.97      0.93       308\n",
      "\n",
      "    accuracy                           0.93       631\n",
      "   macro avg       0.94      0.93      0.93       631\n",
      "weighted avg       0.94      0.93      0.93       631\n",
      "\n"
     ]
    }
   ],
   "source": [
    "import pandas as p\n",
    "import warnings\n",
    "warnings.filterwarnings(\"ignore\")\n",
    "from sklearn.model_selection import train_test_split\n",
    "from sklearn.linear_model import LogisticRegression\n",
    "from sklearn.metrics import accuracy_score\n",
    "from sklearn.metrics import classification_report\n",
    "from sklearn.metrics import confusion_matrix\n",
    "\n",
    "d=p.read_csv('gender_voice_dataset.csv')\n",
    "#d.fillna(d['median'].mean(),inplace=True)\n",
    "d.dropna(inplace=True)\n",
    "d['label']=d['label'].map({'female':0,'male':1})\n",
    "\n",
    "\n",
    "x=d[['meanfreq','sd','median','Q25','Q75','IQR','sfm','mode','centroid','meanfun','minfun','maxfun','meandom','mindom','maxdom','dfrange','modindx']]\n",
    "\n",
    "y=d[['label']]\n",
    "\n",
    "\n",
    "x_train,x_test,y_train,y_test=train_test_split(x,y,test_size=0.20)\n",
    "c=LogisticRegression(random_state=0,solver='lbfgs',multi_class='multinomial')\n",
    "\n",
    "c.fit(x_train,y_train)\n",
    "prediction=c.predict(x_test)\n",
    "accuracy=accuracy_score(y_test,prediction)\n",
    "\n",
    "print(\"confusion matrix:\",confusion_matrix(y_test,prediction))\n",
    "print(\"accuracy :\" ,accuracy)\n",
    "print(\"classification report: \",classification_report(y_test,prediction))\n"
   ]
  },
  {
   "cell_type": "code",
   "execution_count": null,
   "metadata": {},
   "outputs": [],
   "source": []
  },
  {
   "cell_type": "code",
   "execution_count": 12,
   "metadata": {},
   "outputs": [],
   "source": [
    "#2 Naïve bayes "
   ]
  },
  {
   "cell_type": "code",
   "execution_count": 14,
   "metadata": {},
   "outputs": [
    {
     "name": "stdout",
     "output_type": "stream",
     "text": [
      "confusion matrix: [[265  39]\n",
      " [ 25 302]]\n",
      "accuracy : 0.8985736925515055\n",
      "classification report:                precision    recall  f1-score   support\n",
      "\n",
      "           0       0.91      0.87      0.89       304\n",
      "           1       0.89      0.92      0.90       327\n",
      "\n",
      "    accuracy                           0.90       631\n",
      "   macro avg       0.90      0.90      0.90       631\n",
      "weighted avg       0.90      0.90      0.90       631\n",
      "\n"
     ]
    },
    {
     "data": {
      "image/png": "[encoded data removed]",
      "text/plain": [
       "<Figure size 360x360 with 1 Axes>"
      ]
     },
     "metadata": {
      "needs_background": "light"
     },
     "output_type": "display_data"
    }
   ],
   "source": [
    "import pandas as p\n",
    "import matplotlib.pyplot as plt\n",
    "from sklearn import metrics\n",
    "import warnings\n",
    "warnings.filterwarnings(\"ignore\")\n",
    "from sklearn.model_selection import train_test_split\n",
    "from sklearn.linear_model import LogisticRegression\n",
    "from sklearn.metrics import accuracy_score\n",
    "from sklearn.metrics import classification_report\n",
    "from sklearn.naive_bayes import GaussianNB\n",
    "\n",
    "d=p.read_csv('gender_voice_dataset.csv')\n",
    "d.dropna(inplace=True)\n",
    "d['label']=d['label'].map({'female':0,'male':1})\n",
    "x=d[['meanfreq','sd','median','Q25','Q75','IQR','sfm','mode','centroid','meanfun','minfun','maxfun','meandom','mindom','maxdom','dfrange','modindx']]\n",
    "y=d[['label']]\n",
    "\n",
    "x_train,x_test,y_train,y_test=train_test_split(x,y,test_size=0.20)\n",
    "\n",
    "g=GaussianNB()\n",
    "g.fit(x_train,y_train)\n",
    "prediction=g.predict(x_test)\n",
    "accuracy=accuracy_score(y_test,prediction)\n",
    "\n",
    "print(\"confusion matrix:\",confusion_matrix(y_test,prediction))\n",
    "print(\"accuracy :\" ,accuracy)\n",
    "print(\"classification report: \",classification_report(y_test,prediction))\n",
    "\n",
    "cm=confusion_matrix(y_test,prediction)\n",
    "tn=cm[0][0]\n",
    "fn=cm[1][0]\n",
    "tp=cm[1][1]\n",
    "fp=cm[0][1]\n",
    "\n",
    "fpr=fp/(fp+tn)\n",
    "tpr=tp/(tp+fn)\n",
    "\n",
    "fig,ax=plt.subplots(figsize=(5,5))\n",
    "fpr, tpr, _ = metrics.roc_curve(y_test,prediction)\n",
    "auc = metrics.roc_auc_score(y_test,prediction)\n",
    "\n"
   ]
  },
  {
   "cell_type": "code",
   "execution_count": 15,
   "metadata": {},
   "outputs": [],
   "source": [
    "# Linear Regression "
   ]
  },
  {
   "cell_type": "code",
   "execution_count": 16,
   "metadata": {},
   "outputs": [
    {
     "name": "stdout",
     "output_type": "stream",
     "text": [
      "charges : [[24949.27193451]]\n",
      "mean square error 38262818.002736315\n",
      "38262944.57774873\n",
      "4073.0016657325764\n",
      "2265.478118767092\n"
     ]
    },
    {
     "data": {
      "text/plain": [
       "array([ 4314.71858825, 10397.61004224,  7850.73876654,  5960.09161705,\n",
       "       39642.33989047,  3785.68821841, 47152.22417739, 12243.3926816 ,\n",
       "        8208.43600745, 42665.38532924,  8255.64854814, 22652.27396947,\n",
       "        7034.56877817, 10766.13498623,  4791.02260433,  6667.52130736,\n",
       "        9450.50561978, 12890.19451164, 11812.62116537,  4673.82039438,\n",
       "       12402.68597463, 38081.8147105 ,  2784.14644887,  2636.02931567,\n",
       "       41085.03788402, 13153.47659776, 22226.36660564,  6970.24094125,\n",
       "       39366.78754499,  9642.44320759,  7656.9195605 , 13016.17992762,\n",
       "       35452.44177471,  9771.75303521,  5901.1958647 , 42003.82042154,\n",
       "       35497.59658007,  8884.84520716, 10136.24550896,  4321.48853421,\n",
       "       14067.42702416, 14416.83974659, 14877.56616783, 11918.81246747,\n",
       "       11748.36413329,  8064.26578135,  2166.26692362,  7676.08015387,\n",
       "        2591.05840358,  1414.99401726, 29303.01452862, 39079.64446286,\n",
       "       42064.42625221, 22585.75115639, 45731.33846927,  2543.25754933,\n",
       "       14343.87303932,  7456.99015864, 14657.07403678, 13563.05296316,\n",
       "       10815.12344745, 35554.51186515, 12115.16910108,  9979.15171604,\n",
       "        6673.63098885,  6955.36832619, 44526.87323727, 39456.5095864 ,\n",
       "       13821.46216005, 10344.32283984,  3583.29155326,  4701.8978815 ,\n",
       "        8947.56402493,  7123.77878018,  7692.06054943, 17188.85325715,\n",
       "       13042.72670253, 16636.83748264,  6375.52728992, 33964.74368751,\n",
       "        3504.71367734,  7905.04960718, 15932.13081624,  8156.68898663,\n",
       "        9084.26164325,  7927.30618052,  6441.15890947,  7669.48617064,\n",
       "        4936.3226964 ,  4598.66539582,  3209.23797018, 12815.93841007,\n",
       "        1948.89107242,  5225.76533883,  9199.13668892, 12379.8575781 ,\n",
       "       10665.33733813, 12832.03764325,  6722.2887364 , 15600.6614436 ,\n",
       "       14074.46099181, 12015.65594842,  6622.41051436, 10543.91612652,\n",
       "        7625.51159296,  8595.17867981,  6391.25484432,  5781.47093482,\n",
       "       10055.52830521, 12367.41431614, 12247.35856799,  4785.84616643,\n",
       "        6849.54946708,  2181.99458512, 12101.70510657, 24775.2131881 ,\n",
       "        6221.81144538,  6792.59573189,  9263.37772183,  1637.01984984,\n",
       "       11308.59013639,  6835.06022827, 21040.09093992,  3026.84763933,\n",
       "       38016.07769679,  4555.8710784 , 10395.09125349, 45432.53426484,\n",
       "       13448.62124001, 13286.48135558, 15788.91612113, 43357.22103035,\n",
       "        5781.47093482, 12750.75944335,  6553.93040134,  2349.29200333,\n",
       "        7660.66375073, 10054.1506171 ,  6430.81987578,  6741.85281104,\n",
       "        9634.79134946,  5430.43130279, 14363.43150365, 24191.94040714,\n",
       "        4667.68537861, 12224.86559421,  6796.57307225,  9082.01120706,\n",
       "       14337.67840637, 12543.60811775,  2875.2132336 , 21553.18561768,\n",
       "        2217.80481687,  6700.40136574,  6286.01375493,  4569.19879575,\n",
       "       39012.55808041,  8161.92668683, 13426.67414467, 41329.04087629,\n",
       "       39311.58646929,  2783.07158005, 46031.19408345,  2334.3814133 ,\n",
       "       21852.67831875,  5833.68184083,  5722.5107167 , 39040.01399426,\n",
       "        7741.15108783,  9709.74381827,  6441.15890947, 12757.76251099,\n",
       "        6502.37128465,  9876.90902899,  1843.69115609, 13633.48294566,\n",
       "        5437.65427458, 10111.51089361,  7408.96583016,  6321.30636861,\n",
       "        5025.35750923,  2754.72432074, 10871.13556578,  9765.06043876,\n",
       "        7762.43879243,  6767.42456569, 11475.2520451 ,  2443.08105015,\n",
       "        3249.833472  , 34061.32838847, 11653.86555617, 13270.1828278 ,\n",
       "       24326.21253142, 13630.61012247,  5758.30857441, 41413.8581456 ,\n",
       "       44395.21713442, 11760.6787765 ,  9345.30185219, 12584.36758582,\n",
       "        5938.65036594, 13024.42604344, 17564.54276957, 25320.26225985,\n",
       "        9876.90902899,  7581.4532397 ,  5921.35290733, 13951.07034979,\n",
       "       16064.17728369,  7488.97518511,  3365.31452265,  5167.45564832,\n",
       "        4281.20828816,  8696.8526749 ,  9707.24074077,  8188.5735146 ,\n",
       "       14725.22535601, 45912.20686702,  7895.87418065,  9333.9670636 ,\n",
       "        4350.53339628,  7938.46208123,  2402.95515619, 10344.10739734,\n",
       "        8125.76054435,  7616.98564251, 15912.89601421,  2624.98854596,\n",
       "        7550.02813152,  5426.65678169,  4849.34002364,  1110.4595513 ,\n",
       "       12701.07961368, 20604.69127691,  9655.28130034,  3256.57959813,\n",
       "       18946.44963271,  6075.71475219,  4968.34200983, 15175.33602034,\n",
       "        2555.24817183, 15686.32204659,  3726.45712846,  5954.07405858,\n",
       "        7553.71489943,  2783.07158005,  6018.56609574, 11966.84156859,\n",
       "        6355.13347498, 16380.06949554,  5347.51977167,  9258.13104027,\n",
       "        2485.20716128, 13141.96359335,  2181.99458512,  8087.69403736,\n",
       "       27658.15100117,  2722.54559004,  6322.49153647, 16571.47726452,\n",
       "        8622.05087655, 11798.29704908, 12863.08195611,  3377.47092996,\n",
       "       20818.51015046,  8062.0045057 ])"
      ]
     },
     "execution_count": 16,
     "metadata": {},
     "output_type": "execute_result"
    }
   ],
   "source": [
    "\n",
    "import pandas as p\n",
    "from sklearn.model_selection import train_test_split\n",
    "from sklearn.linear_model import *\n",
    "from sklearn.metrics import *\n",
    "from sklearn.ensemble import *\n",
    "\n",
    "data=p.read_csv('insurance.csv')\n",
    "data.dropna(inplace=True)\n",
    "data['sex']=data['sex'].map({'female':0,'male':1})\n",
    "data['smoker']=data['smoker'].map({'yes':1,'no':0})\n",
    "data['region']=data['region'].map({'northeast':0,'northwest':1,'southeast':2,'southwest':3})\n",
    "\n",
    "x=data[['age','sex','bmi','children','smoker','region']]\n",
    "y=data[['charges']]\n",
    "\n",
    "lr=LinearRegression()\n",
    "x_train,x_test,y_train,y_test=train_test_split(x,y,test_size=0.20)\n",
    "lr.fit(x_train,y_train)\n",
    "\n",
    "prediction=lr.predict([[19,0,27.9,0,1,3]])\n",
    "print(\"charges :\",prediction)\n",
    "print(\"mean square error\",mean_squared_error(y_test,lr.predict(x_test)))\n",
    "\n",
    "elastic=ElasticNet(alpha=0.00001)\n",
    "elastic.fit(x_train,y_train)\n",
    "print(mean_squared_error(y_test,elastic.predict(x_test)))\n",
    "print(mean_absolute_error(y_test,elastic.predict(x_test)))\n",
    "print(median_absolute_error(y_test,elastic.predict(x_test)))\n",
    "\n",
    "\n",
    "lasso=Lasso(alpha=0.00001,normalize=True)\n",
    "lasso.fit(x_train,y_train)\n",
    "lasso.predict(x_test)\n",
    "\n",
    "\n",
    "grad=GradientBoostingRegressor()\n",
    "grad.fit(x_train,y_train)\n",
    "grad.predict(x_test)"
   ]
  },
  {
   "cell_type": "code",
   "execution_count": null,
   "metadata": {},
   "outputs": [],
   "source": []
  },
  {
   "cell_type": "code",
   "execution_count": null,
   "metadata": {},
   "outputs": [],
   "source": []
  },
  {
   "cell_type": "code",
   "execution_count": null,
   "metadata": {},
   "outputs": [],
   "source": []
  }
 ],
 "metadata": {
  "kernelspec": {
   "display_name": "Python 3",
   "language": "python",
   "name": "python3"
  },
  "language_info": {
   "codemirror_mode": {
    "name": "ipython",
    "version": 3
   },
   "file_extension": ".py",
   "mimetype": "text/x-python",
   "name": "python",
   "nbconvert_exporter": "python",
   "pygments_lexer": "ipython3",
   "version": "3.7.3"
  }
 },
 "nbformat": 4,
 "nbformat_minor": 2
}
