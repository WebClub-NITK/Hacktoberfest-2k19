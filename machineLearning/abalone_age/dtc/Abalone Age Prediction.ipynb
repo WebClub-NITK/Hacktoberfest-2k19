{
 "cells": [
  {
   "cell_type": "markdown",
   "metadata": {},
   "source": [
    "# Abalone Age Prediction"
   ]
  },
  {
   "cell_type": "markdown",
   "metadata": {},
   "source": [
    "## Importing Dependencies"
   ]
  },
  {
   "cell_type": "code",
   "execution_count": 1,
   "metadata": {},
   "outputs": [],
   "source": [
    "import numpy as np\n",
    "import pandas as pd\n",
    "import seaborn as sns\n",
    "from sklearn.preprocessing import LabelEncoder, OneHotEncoder\n",
    "from sklearn.preprocessing import StandardScaler\n",
    "from sklearn.metrics import confusion_matrix, accuracy_score\n",
    "from sklearn.model_selection import train_test_split\n",
    "from sklearn.tree import DecisionTreeClassifier"
   ]
  },
  {
   "cell_type": "markdown",
   "metadata": {},
   "source": [
    "## Converting data from .data file to machine learning model readable format"
   ]
  },
  {
   "cell_type": "code",
   "execution_count": 11,
   "metadata": {},
   "outputs": [
    {
     "name": "stderr",
     "output_type": "stream",
     "text": [
      "c:\\users\\rishi sharma\\appdata\\local\\programs\\python\\python36\\lib\\site-packages\\ipykernel_launcher.py:6: VisibleDeprecationWarning: Reading unicode strings without specifying the encoding argument is deprecated. Set the encoding, use None for the system default.\n",
      "  \n"
     ]
    }
   ],
   "source": [
    "d = np.genfromtxt('abalone.data',\n",
    "                     skip_header=1,\n",
    "                     skip_footer=1,\n",
    "                     names=True,\n",
    "                     dtype=None,\n",
    "                     delimiter = ',')"
   ]
  },
  {
   "cell_type": "markdown",
   "metadata": {},
   "source": [
    "## Converting data into pandas dataframe"
   ]
  },
  {
   "cell_type": "code",
   "execution_count": 25,
   "metadata": {},
   "outputs": [],
   "source": [
    "df = pd.DataFrame(d)\n",
    "# df = pd.read_csv('Abalone_data.csv')"
   ]
  },
  {
   "cell_type": "markdown",
   "metadata": {},
   "source": [
    "## Taking a look a the data"
   ]
  },
  {
   "cell_type": "code",
   "execution_count": 3,
   "metadata": {},
   "outputs": [
    {
     "data": {
      "text/html": [
       "<div>\n",
       "<style scoped>\n",
       "    .dataframe tbody tr th:only-of-type {\n",
       "        vertical-align: middle;\n",
       "    }\n",
       "\n",
       "    .dataframe tbody tr th {\n",
       "        vertical-align: top;\n",
       "    }\n",
       "\n",
       "    .dataframe thead th {\n",
       "        text-align: right;\n",
       "    }\n",
       "</style>\n",
       "<table border=\"1\" class=\"dataframe\">\n",
       "  <thead>\n",
       "    <tr style=\"text-align: right;\">\n",
       "      <th></th>\n",
       "      <th>Sex</th>\n",
       "      <th>Length</th>\n",
       "      <th>Diameter</th>\n",
       "      <th>Height</th>\n",
       "      <th>Whole_weight</th>\n",
       "      <th>Shucked_weight</th>\n",
       "      <th>Viscera_weight</th>\n",
       "      <th>Shell_weight</th>\n",
       "      <th>Rings</th>\n",
       "    </tr>\n",
       "  </thead>\n",
       "  <tbody>\n",
       "    <tr>\n",
       "      <th>0</th>\n",
       "      <td>M</td>\n",
       "      <td>70</td>\n",
       "      <td>53</td>\n",
       "      <td>18</td>\n",
       "      <td>45.1</td>\n",
       "      <td>19.9</td>\n",
       "      <td>9.7</td>\n",
       "      <td>14.0</td>\n",
       "      <td>7</td>\n",
       "    </tr>\n",
       "    <tr>\n",
       "      <th>1</th>\n",
       "      <td>F</td>\n",
       "      <td>106</td>\n",
       "      <td>84</td>\n",
       "      <td>27</td>\n",
       "      <td>135.4</td>\n",
       "      <td>51.3</td>\n",
       "      <td>28.3</td>\n",
       "      <td>42.0</td>\n",
       "      <td>9</td>\n",
       "    </tr>\n",
       "    <tr>\n",
       "      <th>2</th>\n",
       "      <td>M</td>\n",
       "      <td>88</td>\n",
       "      <td>73</td>\n",
       "      <td>25</td>\n",
       "      <td>103.2</td>\n",
       "      <td>43.1</td>\n",
       "      <td>22.8</td>\n",
       "      <td>31.0</td>\n",
       "      <td>10</td>\n",
       "    </tr>\n",
       "    <tr>\n",
       "      <th>3</th>\n",
       "      <td>I</td>\n",
       "      <td>66</td>\n",
       "      <td>51</td>\n",
       "      <td>16</td>\n",
       "      <td>41.0</td>\n",
       "      <td>17.9</td>\n",
       "      <td>7.9</td>\n",
       "      <td>11.0</td>\n",
       "      <td>7</td>\n",
       "    </tr>\n",
       "    <tr>\n",
       "      <th>4</th>\n",
       "      <td>I</td>\n",
       "      <td>85</td>\n",
       "      <td>60</td>\n",
       "      <td>19</td>\n",
       "      <td>70.3</td>\n",
       "      <td>28.2</td>\n",
       "      <td>15.5</td>\n",
       "      <td>24.0</td>\n",
       "      <td>8</td>\n",
       "    </tr>\n",
       "  </tbody>\n",
       "</table>\n",
       "</div>"
      ],
      "text/plain": [
       "  Sex  Length  Diameter  Height  Whole_weight  Shucked_weight  Viscera_weight  \\\n",
       "0   M      70        53      18          45.1            19.9             9.7   \n",
       "1   F     106        84      27         135.4            51.3            28.3   \n",
       "2   M      88        73      25         103.2            43.1            22.8   \n",
       "3   I      66        51      16          41.0            17.9             7.9   \n",
       "4   I      85        60      19          70.3            28.2            15.5   \n",
       "\n",
       "   Shell_weight  Rings  \n",
       "0          14.0      7  \n",
       "1          42.0      9  \n",
       "2          31.0     10  \n",
       "3          11.0      7  \n",
       "4          24.0      8  "
      ]
     },
     "execution_count": 3,
     "metadata": {},
     "output_type": "execute_result"
    }
   ],
   "source": [
    "df.head()"
   ]
  },
  {
   "cell_type": "markdown",
   "metadata": {},
   "source": [
    "## Handling the Categorical data"
   ]
  },
  {
   "cell_type": "code",
   "execution_count": 4,
   "metadata": {},
   "outputs": [],
   "source": [
    "le = OneHotEncoder()\n",
    "labels = pd.DataFrame(le.fit_transform(np.array(df['Sex']).reshape(-1, 1)).toarray())\n",
    "labels.columns = ['Label_0', 'Label_1', 'Label_2']\n",
    "# df_final = pd.concat([df, labels], axis = 1)"
   ]
  },
  {
   "cell_type": "code",
   "execution_count": 5,
   "metadata": {},
   "outputs": [],
   "source": [
    "# df_final.head()"
   ]
  },
  {
   "cell_type": "code",
   "execution_count": 26,
   "metadata": {},
   "outputs": [],
   "source": [
    "df_final = df.drop(columns = ['Sex'])"
   ]
  },
  {
   "cell_type": "code",
   "execution_count": 27,
   "metadata": {},
   "outputs": [
    {
     "data": {
      "text/html": [
       "<div>\n",
       "<style scoped>\n",
       "    .dataframe tbody tr th:only-of-type {\n",
       "        vertical-align: middle;\n",
       "    }\n",
       "\n",
       "    .dataframe tbody tr th {\n",
       "        vertical-align: top;\n",
       "    }\n",
       "\n",
       "    .dataframe thead th {\n",
       "        text-align: right;\n",
       "    }\n",
       "</style>\n",
       "<table border=\"1\" class=\"dataframe\">\n",
       "  <thead>\n",
       "    <tr style=\"text-align: right;\">\n",
       "      <th></th>\n",
       "      <th>Length</th>\n",
       "      <th>Diameter</th>\n",
       "      <th>Height</th>\n",
       "      <th>Whole_weight</th>\n",
       "      <th>Shucked_weight</th>\n",
       "      <th>Viscera_weight</th>\n",
       "      <th>Shell_weight</th>\n",
       "      <th>Rings</th>\n",
       "    </tr>\n",
       "  </thead>\n",
       "  <tbody>\n",
       "    <tr>\n",
       "      <th>0</th>\n",
       "      <td>70</td>\n",
       "      <td>53</td>\n",
       "      <td>18</td>\n",
       "      <td>45.1</td>\n",
       "      <td>19.9</td>\n",
       "      <td>9.7</td>\n",
       "      <td>14.0</td>\n",
       "      <td>7</td>\n",
       "    </tr>\n",
       "    <tr>\n",
       "      <th>1</th>\n",
       "      <td>106</td>\n",
       "      <td>84</td>\n",
       "      <td>27</td>\n",
       "      <td>135.4</td>\n",
       "      <td>51.3</td>\n",
       "      <td>28.3</td>\n",
       "      <td>42.0</td>\n",
       "      <td>9</td>\n",
       "    </tr>\n",
       "    <tr>\n",
       "      <th>2</th>\n",
       "      <td>88</td>\n",
       "      <td>73</td>\n",
       "      <td>25</td>\n",
       "      <td>103.2</td>\n",
       "      <td>43.1</td>\n",
       "      <td>22.8</td>\n",
       "      <td>31.0</td>\n",
       "      <td>10</td>\n",
       "    </tr>\n",
       "    <tr>\n",
       "      <th>3</th>\n",
       "      <td>66</td>\n",
       "      <td>51</td>\n",
       "      <td>16</td>\n",
       "      <td>41.0</td>\n",
       "      <td>17.9</td>\n",
       "      <td>7.9</td>\n",
       "      <td>11.0</td>\n",
       "      <td>7</td>\n",
       "    </tr>\n",
       "    <tr>\n",
       "      <th>4</th>\n",
       "      <td>85</td>\n",
       "      <td>60</td>\n",
       "      <td>19</td>\n",
       "      <td>70.3</td>\n",
       "      <td>28.2</td>\n",
       "      <td>15.5</td>\n",
       "      <td>24.0</td>\n",
       "      <td>8</td>\n",
       "    </tr>\n",
       "  </tbody>\n",
       "</table>\n",
       "</div>"
      ],
      "text/plain": [
       "   Length  Diameter  Height  Whole_weight  Shucked_weight  Viscera_weight  \\\n",
       "0      70        53      18          45.1            19.9             9.7   \n",
       "1     106        84      27         135.4            51.3            28.3   \n",
       "2      88        73      25         103.2            43.1            22.8   \n",
       "3      66        51      16          41.0            17.9             7.9   \n",
       "4      85        60      19          70.3            28.2            15.5   \n",
       "\n",
       "   Shell_weight  Rings  \n",
       "0          14.0      7  \n",
       "1          42.0      9  \n",
       "2          31.0     10  \n",
       "3          11.0      7  \n",
       "4          24.0      8  "
      ]
     },
     "execution_count": 27,
     "metadata": {},
     "output_type": "execute_result"
    }
   ],
   "source": [
    "df_final.head()"
   ]
  },
  {
   "cell_type": "markdown",
   "metadata": {},
   "source": [
    "## Seeing the statistics of the dataset"
   ]
  },
  {
   "cell_type": "code",
   "execution_count": 28,
   "metadata": {},
   "outputs": [
    {
     "data": {
      "text/html": [
       "<div>\n",
       "<style scoped>\n",
       "    .dataframe tbody tr th:only-of-type {\n",
       "        vertical-align: middle;\n",
       "    }\n",
       "\n",
       "    .dataframe tbody tr th {\n",
       "        vertical-align: top;\n",
       "    }\n",
       "\n",
       "    .dataframe thead th {\n",
       "        text-align: right;\n",
       "    }\n",
       "</style>\n",
       "<table border=\"1\" class=\"dataframe\">\n",
       "  <thead>\n",
       "    <tr style=\"text-align: right;\">\n",
       "      <th></th>\n",
       "      <th>Length</th>\n",
       "      <th>Diameter</th>\n",
       "      <th>Height</th>\n",
       "      <th>Whole_weight</th>\n",
       "      <th>Shucked_weight</th>\n",
       "      <th>Viscera_weight</th>\n",
       "      <th>Shell_weight</th>\n",
       "      <th>Rings</th>\n",
       "    </tr>\n",
       "  </thead>\n",
       "  <tbody>\n",
       "    <tr>\n",
       "      <th>count</th>\n",
       "      <td>4176.000000</td>\n",
       "      <td>4176.000000</td>\n",
       "      <td>4176.000000</td>\n",
       "      <td>4176.000000</td>\n",
       "      <td>4176.000000</td>\n",
       "      <td>4176.000000</td>\n",
       "      <td>4176.000000</td>\n",
       "      <td>4176.000000</td>\n",
       "    </tr>\n",
       "    <tr>\n",
       "      <th>mean</th>\n",
       "      <td>104.801724</td>\n",
       "      <td>81.578305</td>\n",
       "      <td>27.905412</td>\n",
       "      <td>165.763506</td>\n",
       "      <td>71.879957</td>\n",
       "      <td>36.122534</td>\n",
       "      <td>47.770426</td>\n",
       "      <td>9.932471</td>\n",
       "    </tr>\n",
       "    <tr>\n",
       "      <th>std</th>\n",
       "      <td>24.020509</td>\n",
       "      <td>19.849906</td>\n",
       "      <td>8.365278</td>\n",
       "      <td>98.084710</td>\n",
       "      <td>44.395943</td>\n",
       "      <td>21.924091</td>\n",
       "      <td>27.842510</td>\n",
       "      <td>3.223601</td>\n",
       "    </tr>\n",
       "    <tr>\n",
       "      <th>min</th>\n",
       "      <td>15.000000</td>\n",
       "      <td>11.000000</td>\n",
       "      <td>0.000000</td>\n",
       "      <td>0.400000</td>\n",
       "      <td>0.200000</td>\n",
       "      <td>0.100000</td>\n",
       "      <td>0.300000</td>\n",
       "      <td>1.000000</td>\n",
       "    </tr>\n",
       "    <tr>\n",
       "      <th>25%</th>\n",
       "      <td>90.000000</td>\n",
       "      <td>70.000000</td>\n",
       "      <td>23.000000</td>\n",
       "      <td>88.300000</td>\n",
       "      <td>37.200000</td>\n",
       "      <td>18.675000</td>\n",
       "      <td>26.000000</td>\n",
       "      <td>8.000000</td>\n",
       "    </tr>\n",
       "    <tr>\n",
       "      <th>50%</th>\n",
       "      <td>109.000000</td>\n",
       "      <td>85.000000</td>\n",
       "      <td>28.000000</td>\n",
       "      <td>159.950000</td>\n",
       "      <td>67.200000</td>\n",
       "      <td>34.200000</td>\n",
       "      <td>46.800000</td>\n",
       "      <td>9.000000</td>\n",
       "    </tr>\n",
       "    <tr>\n",
       "      <th>75%</th>\n",
       "      <td>123.000000</td>\n",
       "      <td>96.000000</td>\n",
       "      <td>33.000000</td>\n",
       "      <td>230.650000</td>\n",
       "      <td>100.400000</td>\n",
       "      <td>50.600000</td>\n",
       "      <td>65.800000</td>\n",
       "      <td>11.000000</td>\n",
       "    </tr>\n",
       "    <tr>\n",
       "      <th>max</th>\n",
       "      <td>163.000000</td>\n",
       "      <td>130.000000</td>\n",
       "      <td>226.000000</td>\n",
       "      <td>565.100000</td>\n",
       "      <td>297.600000</td>\n",
       "      <td>152.000000</td>\n",
       "      <td>201.000000</td>\n",
       "      <td>29.000000</td>\n",
       "    </tr>\n",
       "  </tbody>\n",
       "</table>\n",
       "</div>"
      ],
      "text/plain": [
       "            Length     Diameter       Height  Whole_weight  Shucked_weight  \\\n",
       "count  4176.000000  4176.000000  4176.000000   4176.000000     4176.000000   \n",
       "mean    104.801724    81.578305    27.905412    165.763506       71.879957   \n",
       "std      24.020509    19.849906     8.365278     98.084710       44.395943   \n",
       "min      15.000000    11.000000     0.000000      0.400000        0.200000   \n",
       "25%      90.000000    70.000000    23.000000     88.300000       37.200000   \n",
       "50%     109.000000    85.000000    28.000000    159.950000       67.200000   \n",
       "75%     123.000000    96.000000    33.000000    230.650000      100.400000   \n",
       "max     163.000000   130.000000   226.000000    565.100000      297.600000   \n",
       "\n",
       "       Viscera_weight  Shell_weight        Rings  \n",
       "count     4176.000000   4176.000000  4176.000000  \n",
       "mean        36.122534     47.770426     9.932471  \n",
       "std         21.924091     27.842510     3.223601  \n",
       "min          0.100000      0.300000     1.000000  \n",
       "25%         18.675000     26.000000     8.000000  \n",
       "50%         34.200000     46.800000     9.000000  \n",
       "75%         50.600000     65.800000    11.000000  \n",
       "max        152.000000    201.000000    29.000000  "
      ]
     },
     "execution_count": 28,
     "metadata": {},
     "output_type": "execute_result"
    }
   ],
   "source": [
    "df_final.describe()"
   ]
  },
  {
   "cell_type": "markdown",
   "metadata": {},
   "source": [
    "## Seeing whether everthing is in int/float format or someting is in string format then convert it to int/float "
   ]
  },
  {
   "cell_type": "code",
   "execution_count": 29,
   "metadata": {},
   "outputs": [
    {
     "name": "stdout",
     "output_type": "stream",
     "text": [
      "<class 'pandas.core.frame.DataFrame'>\n",
      "RangeIndex: 4176 entries, 0 to 4175\n",
      "Data columns (total 8 columns):\n",
      "Length            4176 non-null int64\n",
      "Diameter          4176 non-null int64\n",
      "Height            4176 non-null int64\n",
      "Whole_weight      4176 non-null float64\n",
      "Shucked_weight    4176 non-null float64\n",
      "Viscera_weight    4176 non-null float64\n",
      "Shell_weight      4176 non-null float64\n",
      "Rings             4176 non-null int64\n",
      "dtypes: float64(4), int64(4)\n",
      "memory usage: 261.1 KB\n"
     ]
    }
   ],
   "source": [
    "df_final.info()"
   ]
  },
  {
   "cell_type": "markdown",
   "metadata": {},
   "source": [
    "## Checking null values are there or not"
   ]
  },
  {
   "cell_type": "code",
   "execution_count": 30,
   "metadata": {},
   "outputs": [
    {
     "data": {
      "text/plain": [
       "<matplotlib.axes._subplots.AxesSubplot at 0x287b20b6be0>"
      ]
     },
     "execution_count": 30,
     "metadata": {},
     "output_type": "execute_result"
    },
    {
     "data": {
      "image/png": "[encoded data removed]",
      "text/plain": [
       "<Figure size 432x288 with 2 Axes>"
      ]
     },
     "metadata": {
      "needs_background": "light"
     },
     "output_type": "display_data"
    }
   ],
   "source": [
    "sns.heatmap(df.isnull())"
   ]
  },
  {
   "cell_type": "code",
   "execution_count": 31,
   "metadata": {},
   "outputs": [
    {
     "data": {
      "text/plain": [
       "<matplotlib.axes._subplots.AxesSubplot at 0x287b25258d0>"
      ]
     },
     "execution_count": 31,
     "metadata": {},
     "output_type": "execute_result"
    },
    {
     "data": {
      "image/png": "[encoded data removed]",
      "text/plain": [
       "<Figure size 432x288 with 2 Axes>"
      ]
     },
     "metadata": {
      "needs_background": "light"
     },
     "output_type": "display_data"
    }
   ],
   "source": [
    "sns.heatmap(df.isna())"
   ]
  },
  {
   "cell_type": "markdown",
   "metadata": {},
   "source": [
    "## Splitting data into trainable feature and output feature"
   ]
  },
  {
   "cell_type": "code",
   "execution_count": 32,
   "metadata": {},
   "outputs": [],
   "source": [
    "df_X = df_final[['Length', 'Diameter', 'Height', 'Whole_weight', 'Shucked_weight', 'Viscera_weight', 'Shell_weight']]\n",
    "df_y = df_final['Rings']"
   ]
  },
  {
   "cell_type": "code",
   "execution_count": 33,
   "metadata": {},
   "outputs": [
    {
     "data": {
      "text/html": [
       "<div>\n",
       "<style scoped>\n",
       "    .dataframe tbody tr th:only-of-type {\n",
       "        vertical-align: middle;\n",
       "    }\n",
       "\n",
       "    .dataframe tbody tr th {\n",
       "        vertical-align: top;\n",
       "    }\n",
       "\n",
       "    .dataframe thead th {\n",
       "        text-align: right;\n",
       "    }\n",
       "</style>\n",
       "<table border=\"1\" class=\"dataframe\">\n",
       "  <thead>\n",
       "    <tr style=\"text-align: right;\">\n",
       "      <th></th>\n",
       "      <th>Length</th>\n",
       "      <th>Diameter</th>\n",
       "      <th>Height</th>\n",
       "      <th>Whole_weight</th>\n",
       "      <th>Shucked_weight</th>\n",
       "      <th>Viscera_weight</th>\n",
       "      <th>Shell_weight</th>\n",
       "    </tr>\n",
       "  </thead>\n",
       "  <tbody>\n",
       "    <tr>\n",
       "      <th>0</th>\n",
       "      <td>70</td>\n",
       "      <td>53</td>\n",
       "      <td>18</td>\n",
       "      <td>45.1</td>\n",
       "      <td>19.9</td>\n",
       "      <td>9.7</td>\n",
       "      <td>14.0</td>\n",
       "    </tr>\n",
       "    <tr>\n",
       "      <th>1</th>\n",
       "      <td>106</td>\n",
       "      <td>84</td>\n",
       "      <td>27</td>\n",
       "      <td>135.4</td>\n",
       "      <td>51.3</td>\n",
       "      <td>28.3</td>\n",
       "      <td>42.0</td>\n",
       "    </tr>\n",
       "    <tr>\n",
       "      <th>2</th>\n",
       "      <td>88</td>\n",
       "      <td>73</td>\n",
       "      <td>25</td>\n",
       "      <td>103.2</td>\n",
       "      <td>43.1</td>\n",
       "      <td>22.8</td>\n",
       "      <td>31.0</td>\n",
       "    </tr>\n",
       "    <tr>\n",
       "      <th>3</th>\n",
       "      <td>66</td>\n",
       "      <td>51</td>\n",
       "      <td>16</td>\n",
       "      <td>41.0</td>\n",
       "      <td>17.9</td>\n",
       "      <td>7.9</td>\n",
       "      <td>11.0</td>\n",
       "    </tr>\n",
       "    <tr>\n",
       "      <th>4</th>\n",
       "      <td>85</td>\n",
       "      <td>60</td>\n",
       "      <td>19</td>\n",
       "      <td>70.3</td>\n",
       "      <td>28.2</td>\n",
       "      <td>15.5</td>\n",
       "      <td>24.0</td>\n",
       "    </tr>\n",
       "  </tbody>\n",
       "</table>\n",
       "</div>"
      ],
      "text/plain": [
       "   Length  Diameter  Height  Whole_weight  Shucked_weight  Viscera_weight  \\\n",
       "0      70        53      18          45.1            19.9             9.7   \n",
       "1     106        84      27         135.4            51.3            28.3   \n",
       "2      88        73      25         103.2            43.1            22.8   \n",
       "3      66        51      16          41.0            17.9             7.9   \n",
       "4      85        60      19          70.3            28.2            15.5   \n",
       "\n",
       "   Shell_weight  \n",
       "0          14.0  \n",
       "1          42.0  \n",
       "2          31.0  \n",
       "3          11.0  \n",
       "4          24.0  "
      ]
     },
     "execution_count": 33,
     "metadata": {},
     "output_type": "execute_result"
    }
   ],
   "source": [
    "df_X.head()"
   ]
  },
  {
   "cell_type": "code",
   "execution_count": 34,
   "metadata": {},
   "outputs": [
    {
     "data": {
      "text/plain": [
       "0     7\n",
       "1     9\n",
       "2    10\n",
       "3     7\n",
       "4     8\n",
       "Name: Rings, dtype: int64"
      ]
     },
     "execution_count": 34,
     "metadata": {},
     "output_type": "execute_result"
    }
   ],
   "source": [
    "df_y.head()"
   ]
  },
  {
   "cell_type": "markdown",
   "metadata": {},
   "source": [
    "## Doing feature scaling of data so that everyting should be between [-1, 1]"
   ]
  },
  {
   "cell_type": "code",
   "execution_count": 35,
   "metadata": {},
   "outputs": [
    {
     "data": {
      "text/plain": [
       "array([[-1.44900723, -1.43989229, -1.18425209, ..., -1.17096695,\n",
       "        -1.20532696, -1.21305408],\n",
       "       [ 0.0498915 ,  0.12201495, -0.10824748, ..., -0.46361041,\n",
       "        -0.35684354, -0.20727719],\n",
       "       [-0.69955786, -0.4322102 , -0.34735962, ..., -0.64833409,\n",
       "        -0.60773918, -0.60240383],\n",
       "       ...,\n",
       "       [ 0.63279657,  0.67624011,  1.56553747, ...,  0.74835715,\n",
       "         0.97518418,  0.49676663],\n",
       "       [ 0.84097695,  0.77700832,  0.25042072, ...,  0.77313716,\n",
       "         0.73341202,  0.41055718],\n",
       "       [ 1.54879024,  1.48238578,  1.32642533, ...,  2.64064851,\n",
       "         1.78717368,  1.84019719]])"
      ]
     },
     "execution_count": 35,
     "metadata": {},
     "output_type": "execute_result"
    }
   ],
   "source": [
    "sc = StandardScaler()\n",
    "transformed_X = sc.fit_transform(df_X)\n",
    "transformed_X"
   ]
  },
  {
   "cell_type": "code",
   "execution_count": 16,
   "metadata": {},
   "outputs": [
    {
     "data": {
      "text/html": [
       "<div>\n",
       "<style scoped>\n",
       "    .dataframe tbody tr th:only-of-type {\n",
       "        vertical-align: middle;\n",
       "    }\n",
       "\n",
       "    .dataframe tbody tr th {\n",
       "        vertical-align: top;\n",
       "    }\n",
       "\n",
       "    .dataframe thead th {\n",
       "        text-align: right;\n",
       "    }\n",
       "</style>\n",
       "<table border=\"1\" class=\"dataframe\">\n",
       "  <thead>\n",
       "    <tr style=\"text-align: right;\">\n",
       "      <th></th>\n",
       "      <th>0</th>\n",
       "      <th>1</th>\n",
       "      <th>2</th>\n",
       "      <th>3</th>\n",
       "      <th>4</th>\n",
       "      <th>5</th>\n",
       "      <th>6</th>\n",
       "      <th>Label_0</th>\n",
       "      <th>Label_1</th>\n",
       "      <th>Label_2</th>\n",
       "    </tr>\n",
       "  </thead>\n",
       "  <tbody>\n",
       "    <tr>\n",
       "      <th>0</th>\n",
       "      <td>-1.449007</td>\n",
       "      <td>-1.439892</td>\n",
       "      <td>-1.184252</td>\n",
       "      <td>-1.230344</td>\n",
       "      <td>-1.170967</td>\n",
       "      <td>-1.205327</td>\n",
       "      <td>-1.213054</td>\n",
       "      <td>0.0</td>\n",
       "      <td>0.0</td>\n",
       "      <td>1.0</td>\n",
       "    </tr>\n",
       "    <tr>\n",
       "      <th>1</th>\n",
       "      <td>0.049892</td>\n",
       "      <td>0.122015</td>\n",
       "      <td>-0.108247</td>\n",
       "      <td>-0.309601</td>\n",
       "      <td>-0.463610</td>\n",
       "      <td>-0.356844</td>\n",
       "      <td>-0.207277</td>\n",
       "      <td>1.0</td>\n",
       "      <td>0.0</td>\n",
       "      <td>0.0</td>\n",
       "    </tr>\n",
       "    <tr>\n",
       "      <th>2</th>\n",
       "      <td>-0.699558</td>\n",
       "      <td>-0.432210</td>\n",
       "      <td>-0.347360</td>\n",
       "      <td>-0.637928</td>\n",
       "      <td>-0.648334</td>\n",
       "      <td>-0.607739</td>\n",
       "      <td>-0.602404</td>\n",
       "      <td>0.0</td>\n",
       "      <td>0.0</td>\n",
       "      <td>1.0</td>\n",
       "    </tr>\n",
       "    <tr>\n",
       "      <th>3</th>\n",
       "      <td>-1.615552</td>\n",
       "      <td>-1.540661</td>\n",
       "      <td>-1.423364</td>\n",
       "      <td>-1.272150</td>\n",
       "      <td>-1.216022</td>\n",
       "      <td>-1.287438</td>\n",
       "      <td>-1.320816</td>\n",
       "      <td>0.0</td>\n",
       "      <td>1.0</td>\n",
       "      <td>0.0</td>\n",
       "    </tr>\n",
       "    <tr>\n",
       "      <th>4</th>\n",
       "      <td>-0.824466</td>\n",
       "      <td>-1.087204</td>\n",
       "      <td>-1.064696</td>\n",
       "      <td>-0.973393</td>\n",
       "      <td>-0.983991</td>\n",
       "      <td>-0.940746</td>\n",
       "      <td>-0.853848</td>\n",
       "      <td>0.0</td>\n",
       "      <td>1.0</td>\n",
       "      <td>0.0</td>\n",
       "    </tr>\n",
       "  </tbody>\n",
       "</table>\n",
       "</div>"
      ],
      "text/plain": [
       "          0         1         2         3         4         5         6  \\\n",
       "0 -1.449007 -1.439892 -1.184252 -1.230344 -1.170967 -1.205327 -1.213054   \n",
       "1  0.049892  0.122015 -0.108247 -0.309601 -0.463610 -0.356844 -0.207277   \n",
       "2 -0.699558 -0.432210 -0.347360 -0.637928 -0.648334 -0.607739 -0.602404   \n",
       "3 -1.615552 -1.540661 -1.423364 -1.272150 -1.216022 -1.287438 -1.320816   \n",
       "4 -0.824466 -1.087204 -1.064696 -0.973393 -0.983991 -0.940746 -0.853848   \n",
       "\n",
       "   Label_0  Label_1  Label_2  \n",
       "0      0.0      0.0      1.0  \n",
       "1      1.0      0.0      0.0  \n",
       "2      0.0      0.0      1.0  \n",
       "3      0.0      1.0      0.0  \n",
       "4      0.0      1.0      0.0  "
      ]
     },
     "execution_count": 16,
     "metadata": {},
     "output_type": "execute_result"
    }
   ],
   "source": [
    "new_X = pd.concat([pd.DataFrame(transformed_X), labels], axis = 1)\n",
    "new_X.head()"
   ]
  },
  {
   "cell_type": "markdown",
   "metadata": {},
   "source": [
    "## Spliting data into training and testing set"
   ]
  },
  {
   "cell_type": "code",
   "execution_count": 36,
   "metadata": {},
   "outputs": [],
   "source": [
    "X_train, X_test, y_train, y_test = train_test_split(transformed_X, df_y, test_size = 0.2)"
   ]
  },
  {
   "cell_type": "markdown",
   "metadata": {},
   "source": [
    "## Checking the shape of training and testing data"
   ]
  },
  {
   "cell_type": "code",
   "execution_count": 37,
   "metadata": {},
   "outputs": [
    {
     "data": {
      "text/plain": [
       "((3340, 7), (836, 7), (3340,), (836,))"
      ]
     },
     "execution_count": 37,
     "metadata": {},
     "output_type": "execute_result"
    }
   ],
   "source": [
    "X_train.shape, X_test.shape, y_train.shape, y_test.shape"
   ]
  },
  {
   "cell_type": "markdown",
   "metadata": {},
   "source": [
    "## Applying Decision Tree Clasifier to the data"
   ]
  },
  {
   "cell_type": "code",
   "execution_count": 38,
   "metadata": {},
   "outputs": [
    {
     "data": {
      "text/plain": [
       "DecisionTreeClassifier(class_weight=None, criterion='gini', max_depth=None,\n",
       "                       max_features=None, max_leaf_nodes=None,\n",
       "                       min_impurity_decrease=0.0, min_impurity_split=None,\n",
       "                       min_samples_leaf=1, min_samples_split=2,\n",
       "                       min_weight_fraction_leaf=0.0, presort=False,\n",
       "                       random_state=None, splitter='best')"
      ]
     },
     "execution_count": 38,
     "metadata": {},
     "output_type": "execute_result"
    }
   ],
   "source": [
    "model = DecisionTreeClassifier()\n",
    "model.fit(X_train, y_train)"
   ]
  },
  {
   "cell_type": "markdown",
   "metadata": {},
   "source": [
    "## Predicting on testing set"
   ]
  },
  {
   "cell_type": "code",
   "execution_count": 39,
   "metadata": {},
   "outputs": [],
   "source": [
    "y_pred = model.predict(X_test)"
   ]
  },
  {
   "cell_type": "markdown",
   "metadata": {},
   "source": [
    "## Calculating the accuracy"
   ]
  },
  {
   "cell_type": "code",
   "execution_count": 43,
   "metadata": {},
   "outputs": [
    {
     "name": "stdout",
     "output_type": "stream",
     "text": [
      "0.8767607655502391\n"
     ]
    }
   ],
   "source": [
    "accuracy_score(y_test, y_pred)"
   ]
  },
  {
   "cell_type": "markdown",
   "metadata": {},
   "source": [
    "## Good luck !!!"
   ]
  }
 ],
 "metadata": {
  "kernelspec": {
   "display_name": "Python 3",
   "language": "python",
   "name": "python3"
  },
  "language_info": {
   "codemirror_mode": {
    "name": "ipython",
    "version": 3
   },
   "file_extension": ".py",
   "mimetype": "text/x-python",
   "name": "python",
   "nbconvert_exporter": "python",
   "pygments_lexer": "ipython3",
   "version": "3.6.8"
  }
 },
 "nbformat": 4,
 "nbformat_minor": 4
}
